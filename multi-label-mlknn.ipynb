{
  "cells": [
    {
      "cell_type": "markdown",
      "metadata": {
        "pycharm": {}
      },
      "source": "多标签分类"
    },
    {
      "cell_type": "code",
      "execution_count": 2,
      "metadata": {
        "pycharm": {
          "is_executing": false
        }
      },
      "outputs": [
        {
          "data": {
            "text/plain": "   锘緼tt1    Att2   Att3   Att4   Att5   Att6  Att7   Att8   Att9   Att10  ...  \\\n0   3.36   1.144  0.068  0.306  0.068  0.007  4.19  120.6  159.0    0.64  ...   \n1  14.57  13.430  0.307  0.801  0.013  0.023  3.59  113.3  169.0  108.66  ...   \n2   7.31   5.416  0.816  0.943  0.099  0.040  4.56  126.2  261.0    3.04  ...   \n3   4.74   2.256  2.102  0.308  0.057  0.019  3.85  114.2  109.0    1.23  ...   \n4   4.57   2.834  1.280  0.344  0.072  0.042  5.87  181.6  217.0    1.03  ...   \n\n   Att38   Att39  Att40  Att41  Att42  Att43  Class1  Class2  Class3  Class4  \n0    7.7     4.2   0.26   7.00  29.27  18.83     1.0     0.0     0.0     0.0  \n1    9.0  1007.7   2.27   2.90  11.97  21.31     1.0     1.0     1.0     0.0  \n2    8.4     4.5   0.39   3.58  14.13  23.14     1.0     1.0     1.0     0.0  \n3    9.4     4.4   0.08   3.60  14.51  18.73     1.0     1.0     0.0     0.0  \n4    6.8  1007.0   1.66   3.10  14.91  30.86     1.0     0.0     1.0     1.0  \n\n[5 rows x 47 columns]",
            "text/html": "\u003cdiv\u003e\n\u003cstyle scoped\u003e\n    .dataframe tbody tr th:only-of-type {\n        vertical-align: middle;\n    }\n\n    .dataframe tbody tr th {\n        vertical-align: top;\n    }\n\n    .dataframe thead th {\n        text-align: right;\n    }\n\u003c/style\u003e\n\u003ctable border\u003d\"1\" class\u003d\"dataframe\"\u003e\n  \u003cthead\u003e\n    \u003ctr style\u003d\"text-align: right;\"\u003e\n      \u003cth\u003e\u003c/th\u003e\n      \u003cth\u003e锘緼tt1\u003c/th\u003e\n      \u003cth\u003eAtt2\u003c/th\u003e\n      \u003cth\u003eAtt3\u003c/th\u003e\n      \u003cth\u003eAtt4\u003c/th\u003e\n      \u003cth\u003eAtt5\u003c/th\u003e\n      \u003cth\u003eAtt6\u003c/th\u003e\n      \u003cth\u003eAtt7\u003c/th\u003e\n      \u003cth\u003eAtt8\u003c/th\u003e\n      \u003cth\u003eAtt9\u003c/th\u003e\n      \u003cth\u003eAtt10\u003c/th\u003e\n      \u003cth\u003e...\u003c/th\u003e\n      \u003cth\u003eAtt38\u003c/th\u003e\n      \u003cth\u003eAtt39\u003c/th\u003e\n      \u003cth\u003eAtt40\u003c/th\u003e\n      \u003cth\u003eAtt41\u003c/th\u003e\n      \u003cth\u003eAtt42\u003c/th\u003e\n      \u003cth\u003eAtt43\u003c/th\u003e\n      \u003cth\u003eClass1\u003c/th\u003e\n      \u003cth\u003eClass2\u003c/th\u003e\n      \u003cth\u003eClass3\u003c/th\u003e\n      \u003cth\u003eClass4\u003c/th\u003e\n    \u003c/tr\u003e\n  \u003c/thead\u003e\n  \u003ctbody\u003e\n    \u003ctr\u003e\n      \u003cth\u003e0\u003c/th\u003e\n      \u003ctd\u003e3.36\u003c/td\u003e\n      \u003ctd\u003e1.144\u003c/td\u003e\n      \u003ctd\u003e0.068\u003c/td\u003e\n      \u003ctd\u003e0.306\u003c/td\u003e\n      \u003ctd\u003e0.068\u003c/td\u003e\n      \u003ctd\u003e0.007\u003c/td\u003e\n      \u003ctd\u003e4.19\u003c/td\u003e\n      \u003ctd\u003e120.6\u003c/td\u003e\n      \u003ctd\u003e159.0\u003c/td\u003e\n      \u003ctd\u003e0.64\u003c/td\u003e\n      \u003ctd\u003e...\u003c/td\u003e\n      \u003ctd\u003e7.7\u003c/td\u003e\n      \u003ctd\u003e4.2\u003c/td\u003e\n      \u003ctd\u003e0.26\u003c/td\u003e\n      \u003ctd\u003e7.00\u003c/td\u003e\n      \u003ctd\u003e29.27\u003c/td\u003e\n      \u003ctd\u003e18.83\u003c/td\u003e\n      \u003ctd\u003e1.0\u003c/td\u003e\n      \u003ctd\u003e0.0\u003c/td\u003e\n      \u003ctd\u003e0.0\u003c/td\u003e\n      \u003ctd\u003e0.0\u003c/td\u003e\n    \u003c/tr\u003e\n    \u003ctr\u003e\n      \u003cth\u003e1\u003c/th\u003e\n      \u003ctd\u003e14.57\u003c/td\u003e\n      \u003ctd\u003e13.430\u003c/td\u003e\n      \u003ctd\u003e0.307\u003c/td\u003e\n      \u003ctd\u003e0.801\u003c/td\u003e\n      \u003ctd\u003e0.013\u003c/td\u003e\n      \u003ctd\u003e0.023\u003c/td\u003e\n      \u003ctd\u003e3.59\u003c/td\u003e\n      \u003ctd\u003e113.3\u003c/td\u003e\n      \u003ctd\u003e169.0\u003c/td\u003e\n      \u003ctd\u003e108.66\u003c/td\u003e\n      \u003ctd\u003e...\u003c/td\u003e\n      \u003ctd\u003e9.0\u003c/td\u003e\n      \u003ctd\u003e1007.7\u003c/td\u003e\n      \u003ctd\u003e2.27\u003c/td\u003e\n      \u003ctd\u003e2.90\u003c/td\u003e\n      \u003ctd\u003e11.97\u003c/td\u003e\n      \u003ctd\u003e21.31\u003c/td\u003e\n      \u003ctd\u003e1.0\u003c/td\u003e\n      \u003ctd\u003e1.0\u003c/td\u003e\n      \u003ctd\u003e1.0\u003c/td\u003e\n      \u003ctd\u003e0.0\u003c/td\u003e\n    \u003c/tr\u003e\n    \u003ctr\u003e\n      \u003cth\u003e2\u003c/th\u003e\n      \u003ctd\u003e7.31\u003c/td\u003e\n      \u003ctd\u003e5.416\u003c/td\u003e\n      \u003ctd\u003e0.816\u003c/td\u003e\n      \u003ctd\u003e0.943\u003c/td\u003e\n      \u003ctd\u003e0.099\u003c/td\u003e\n      \u003ctd\u003e0.040\u003c/td\u003e\n      \u003ctd\u003e4.56\u003c/td\u003e\n      \u003ctd\u003e126.2\u003c/td\u003e\n      \u003ctd\u003e261.0\u003c/td\u003e\n      \u003ctd\u003e3.04\u003c/td\u003e\n      \u003ctd\u003e...\u003c/td\u003e\n      \u003ctd\u003e8.4\u003c/td\u003e\n      \u003ctd\u003e4.5\u003c/td\u003e\n      \u003ctd\u003e0.39\u003c/td\u003e\n      \u003ctd\u003e3.58\u003c/td\u003e\n      \u003ctd\u003e14.13\u003c/td\u003e\n      \u003ctd\u003e23.14\u003c/td\u003e\n      \u003ctd\u003e1.0\u003c/td\u003e\n      \u003ctd\u003e1.0\u003c/td\u003e\n      \u003ctd\u003e1.0\u003c/td\u003e\n      \u003ctd\u003e0.0\u003c/td\u003e\n    \u003c/tr\u003e\n    \u003ctr\u003e\n      \u003cth\u003e3\u003c/th\u003e\n      \u003ctd\u003e4.74\u003c/td\u003e\n      \u003ctd\u003e2.256\u003c/td\u003e\n      \u003ctd\u003e2.102\u003c/td\u003e\n      \u003ctd\u003e0.308\u003c/td\u003e\n      \u003ctd\u003e0.057\u003c/td\u003e\n      \u003ctd\u003e0.019\u003c/td\u003e\n      \u003ctd\u003e3.85\u003c/td\u003e\n      \u003ctd\u003e114.2\u003c/td\u003e\n      \u003ctd\u003e109.0\u003c/td\u003e\n      \u003ctd\u003e1.23\u003c/td\u003e\n      \u003ctd\u003e...\u003c/td\u003e\n      \u003ctd\u003e9.4\u003c/td\u003e\n      \u003ctd\u003e4.4\u003c/td\u003e\n      \u003ctd\u003e0.08\u003c/td\u003e\n      \u003ctd\u003e3.60\u003c/td\u003e\n      \u003ctd\u003e14.51\u003c/td\u003e\n      \u003ctd\u003e18.73\u003c/td\u003e\n      \u003ctd\u003e1.0\u003c/td\u003e\n      \u003ctd\u003e1.0\u003c/td\u003e\n      \u003ctd\u003e0.0\u003c/td\u003e\n      \u003ctd\u003e0.0\u003c/td\u003e\n    \u003c/tr\u003e\n    \u003ctr\u003e\n      \u003cth\u003e4\u003c/th\u003e\n      \u003ctd\u003e4.57\u003c/td\u003e\n      \u003ctd\u003e2.834\u003c/td\u003e\n      \u003ctd\u003e1.280\u003c/td\u003e\n      \u003ctd\u003e0.344\u003c/td\u003e\n      \u003ctd\u003e0.072\u003c/td\u003e\n      \u003ctd\u003e0.042\u003c/td\u003e\n      \u003ctd\u003e5.87\u003c/td\u003e\n      \u003ctd\u003e181.6\u003c/td\u003e\n      \u003ctd\u003e217.0\u003c/td\u003e\n      \u003ctd\u003e1.03\u003c/td\u003e\n      \u003ctd\u003e...\u003c/td\u003e\n      \u003ctd\u003e6.8\u003c/td\u003e\n      \u003ctd\u003e1007.0\u003c/td\u003e\n      \u003ctd\u003e1.66\u003c/td\u003e\n      \u003ctd\u003e3.10\u003c/td\u003e\n      \u003ctd\u003e14.91\u003c/td\u003e\n      \u003ctd\u003e30.86\u003c/td\u003e\n      \u003ctd\u003e1.0\u003c/td\u003e\n      \u003ctd\u003e0.0\u003c/td\u003e\n      \u003ctd\u003e1.0\u003c/td\u003e\n      \u003ctd\u003e1.0\u003c/td\u003e\n    \u003c/tr\u003e\n  \u003c/tbody\u003e\n\u003c/table\u003e\n\u003cp\u003e5 rows × 47 columns\u003c/p\u003e\n\u003c/div\u003e"
          },
          "metadata": {},
          "output_type": "execute_result",
          "execution_count": 2
        }
      ],
      "source": "import scipy\nimport pandas as pd\nfrom scipy.io import arff\ndata, meta \u003d scipy.io.arff.loadarff(\u0027data1.arff\u0027)\ndf \u003d pd.DataFrame(data)\ndf.head()"
    },
    {
      "cell_type": "code",
      "execution_count": 3,
      "metadata": {
        "pycharm": {
          "is_executing": false
        }
      },
      "outputs": [],
      "source": "from sklearn.model_selection import train_test_split\n\nX \u003d df.iloc[:,0:43].values\ny \u003d df.iloc[:,43:47].values\n\nX_train, X_test, y_train, y_test \u003d train_test_split(X, y, test_size\u003d0.2, random_state\u003d0)\n"
    },
    {
      "cell_type": "code",
      "execution_count": 4,
      "metadata": {
        "pycharm": {
          "is_executing": false
        }
      },
      "outputs": [
        {
          "data": {
            "text/plain": "(61, 43)"
          },
          "metadata": {},
          "output_type": "execute_result",
          "execution_count": 4
        }
      ],
      "source": [
        "X_train.shape\n"
      ]
    },
    {
      "cell_type": "code",
      "execution_count": 5,
      "metadata": {
        "pycharm": {
          "is_executing": false
        }
      },
      "outputs": [
        {
          "data": {
            "text/plain": "(16, 43)"
          },
          "metadata": {},
          "output_type": "execute_result",
          "execution_count": 5
        }
      ],
      "source": [
        "X_test.shape"
      ]
    },
    {
      "cell_type": "code",
      "execution_count": 6,
      "metadata": {
        "pycharm": {
          "is_executing": false
        }
      },
      "outputs": [
        {
          "data": {
            "text/plain": "(61, 4)"
          },
          "metadata": {},
          "output_type": "execute_result",
          "execution_count": 6
        }
      ],
      "source": [
        "y_train.shape"
      ]
    },
    {
      "cell_type": "code",
      "execution_count": 7,
      "metadata": {
        "pycharm": {
          "is_executing": false
        }
      },
      "outputs": [
        {
          "data": {
            "text/plain": "(16, 4)"
          },
          "metadata": {},
          "output_type": "execute_result",
          "execution_count": 7
        }
      ],
      "source": [
        "y_test.shape"
      ]
    },
    {
      "cell_type": "code",
      "execution_count": 9,
      "metadata": {
        "pycharm": {
          "is_executing": false
        }
      },
      "outputs": [],
      "source": [
        "import numpy as np\n",
        "y_train \u003d y_train.astype(np.float64)\n",
        "y_test \u003d y_test.astype(np.float64)"
      ]
    },
    {
      "cell_type": "code",
      "execution_count": 10,
      "metadata": {
        "pycharm": {
          "is_executing": false
        }
      },
      "outputs": [
        {
          "data": {
            "text/plain": "0.3125"
          },
          "metadata": {},
          "output_type": "execute_result",
          "execution_count": 10
        }
      ],
      "source": "from skmultilearn.adapt import MLkNN\nfrom sklearn.metrics import accuracy_score \nclassifier \u003d MLkNN(k\u003d4)\n\n# train\nclassifier.fit(X_train, y_train)\n# predict\npredictions \u003d classifier.predict(X_test)\n\naccuracy_score(y_test,predictions)\n"
    },
    {
      "cell_type": "code",
      "execution_count": 11,
      "metadata": {
        "pycharm": {
          "is_executing": false
        }
      },
      "outputs": [
        {
          "data": {
            "text/plain": "(16, 4)"
          },
          "metadata": {},
          "output_type": "execute_result",
          "execution_count": 11
        }
      ],
      "source": [
        "# for i ,prediction in enumerate(predictions[-5:]):\n",
        "#     print \u0027预测类型：%s.信息：%s\u0027 %(prediction,X_test_raw.iloc[i])\n",
        "predictions.shape"
      ]
    },
    {
      "cell_type": "code",
      "execution_count": 12,
      "metadata": {
        "pycharm": {
          "is_executing": false
        }
      },
      "outputs": [],
      "source": "z \u003d predictions.toarray()"
    },
    {
      "cell_type": "code",
      "execution_count": 14,
      "metadata": {
        "pycharm": {
          "is_executing": false
        }
      },
      "outputs": [
        {
          "data": {
            "text/plain": "0.4375"
          },
          "metadata": {},
          "output_type": "execute_result",
          "execution_count": 14
        }
      ],
      "source": [
        "[rows, cols] \u003d y_test.shape\n",
        "zzz \u003d 0\n",
        "for i in range(rows - 1):\n",
        "    for j in range(cols - 1):\n",
        "        if y_test[i, j] \u003d\u003d z[i, j]:\n",
        "            zzz +\u003d 1\n",
        "zzz / (rows*cols) "
      ]
    }
  ],
  "metadata": {
    "kernelspec": {
      "display_name": "Python 3",
      "language": "python",
      "name": "python3"
    },
    "language_info": {
      "codemirror_mode": {
        "name": "ipython",
        "version": 3
      },
      "file_extension": ".py",
      "mimetype": "text/x-python",
      "name": "python",
      "nbconvert_exporter": "python",
      "pygments_lexer": "ipython3",
      "version": "3.6.5"
    }
  },
  "nbformat": 4,
  "nbformat_minor": 2
}